{
  "nbformat": 4,
  "nbformat_minor": 0,
  "metadata": {
    "colab": {
      "provenance": [],
      "authorship_tag": "ABX9TyN3ftxG19TvJozBeiGmNeR2",
      "include_colab_link": true
    },
    "kernelspec": {
      "name": "python3",
      "display_name": "Python 3"
    },
    "language_info": {
      "name": "python"
    }
  },
  "cells": [
    {
      "cell_type": "markdown",
      "metadata": {
        "id": "view-in-github",
        "colab_type": "text"
      },
      "source": [
        "<a href=\"https://colab.research.google.com/github/alaminarman130205/Auth-context/blob/main/First_day_python_practice.ipynb\" target=\"_parent\"><img src=\"https://colab.research.google.com/assets/colab-badge.svg\" alt=\"Open In Colab\"/></a>"
      ]
    },
    {
      "cell_type": "code",
      "execution_count": 3,
      "metadata": {
        "id": "92Vdzl6ocpLR"
      },
      "outputs": [],
      "source": [
        "thisdief = {\n",
        "    \"brand\":\"fond\",\n",
        "    \"model\":\"mustang\",\n",
        "    \"year\":1964,\n",
        "}\n"
      ]
    },
    {
      "cell_type": "code",
      "source": [
        "print(thisdief.get(\"name\",\"invalid key\"))"
      ],
      "metadata": {
        "colab": {
          "base_uri": "https://localhost:8080/"
        },
        "id": "Wl8onD0xc_dg",
        "outputId": "41701266-5a74-4d2b-9995-b1fad5e1d1d8"
      },
      "execution_count": 5,
      "outputs": [
        {
          "output_type": "stream",
          "name": "stdout",
          "text": [
            "invalid key\n"
          ]
        }
      ]
    },
    {
      "cell_type": "code",
      "source": [
        "thisdief"
      ],
      "metadata": {
        "colab": {
          "base_uri": "https://localhost:8080/"
        },
        "id": "qoPa3j2OgVyw",
        "outputId": "064839da-655e-4af1-b73c-655b5af9a3a9"
      },
      "execution_count": 6,
      "outputs": [
        {
          "output_type": "execute_result",
          "data": {
            "text/plain": [
              "{'brand': 'fond', 'model': 'mustang', 'year': 1964}"
            ]
          },
          "metadata": {},
          "execution_count": 6
        }
      ]
    },
    {
      "cell_type": "code",
      "source": [
        "num1 = {1, 2, 3, 4, 5}\n",
        "num2  = {5, 6, 7, 8, 9}\n",
        "print(num1 | num2)\n",
        "print(num1 & num2)\n",
        "print(num2 - num1)"
      ],
      "metadata": {
        "colab": {
          "base_uri": "https://localhost:8080/"
        },
        "id": "r3D_gqK-hKij",
        "outputId": "9cd4cb68-7be1-4860-ddf8-8a9e5999fc9d"
      },
      "execution_count": 11,
      "outputs": [
        {
          "output_type": "stream",
          "name": "stdout",
          "text": [
            "{1, 2, 3, 4, 5, 6, 7, 8, 9}\n",
            "{5}\n",
            "{8, 9, 6, 7}\n"
          ]
        }
      ]
    },
    {
      "cell_type": "code",
      "source": [
        "  my_set= {1,2,3,4}\n",
        "  print(my_set)"
      ],
      "metadata": {
        "colab": {
          "base_uri": "https://localhost:8080/"
        },
        "id": "oEs_8wralu1e",
        "outputId": "3cf4f3ce-66c0-4ce4-c9c2-988d115ee325"
      },
      "execution_count": 14,
      "outputs": [
        {
          "output_type": "stream",
          "name": "stdout",
          "text": [
            "{1, 2, 3, 4}\n"
          ]
        }
      ]
    },
    {
      "cell_type": "code",
      "source": [
        "my_self = set([1,2,3,2])\n",
        "print(my_self)"
      ],
      "metadata": {
        "colab": {
          "base_uri": "https://localhost:8080/"
        },
        "id": "-GnbXKPNm6lu",
        "outputId": "07f11e2e-580b-4013-a71f-2e57621653ec"
      },
      "execution_count": 16,
      "outputs": [
        {
          "output_type": "stream",
          "name": "stdout",
          "text": [
            "{1, 2, 3}\n"
          ]
        }
      ]
    },
    {
      "cell_type": "code",
      "source": [
        "my_set1 = {1.0, \"hello boy's\",(1,2,3)}\n",
        "\n",
        "for i in my_set1: \n",
        "  print(i)"
      ],
      "metadata": {
        "colab": {
          "base_uri": "https://localhost:8080/"
        },
        "id": "MZLnehW1nTWW",
        "outputId": "75069311-5876-428d-ccd7-372f061aa0b2"
      },
      "execution_count": 24,
      "outputs": [
        {
          "output_type": "stream",
          "name": "stdout",
          "text": [
            "1.0\n",
            "(1, 2, 3)\n",
            "hello boy's\n"
          ]
        }
      ]
    },
    {
      "cell_type": "code",
      "source": [],
      "metadata": {
        "id": "EkzTbjoPoL2y"
      },
      "execution_count": 27,
      "outputs": []
    }
  ]
}